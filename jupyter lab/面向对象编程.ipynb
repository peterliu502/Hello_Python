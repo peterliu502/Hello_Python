{
 "cells": [
  {
   "cell_type": "markdown",
   "metadata": {},
   "source": [
    "1. 面向过程编程"
   ]
  },
  {
   "cell_type": "code",
   "execution_count": 2,
   "metadata": {},
   "outputs": [
    {
     "name": "stdout",
     "output_type": "stream",
     "text": [
      "Bob's score is 90\n",
      "Mary's score is 86\n"
     ]
    }
   ],
   "source": [
    "# student信息用dict储存\n",
    "stu1 = {'name':'Bob', 'score':90}\n",
    "stu2 = {'name':'Mary', 'score':86}\n",
    "# 打印student信息的功能用function完成\n",
    "def print_score(stu):\n",
    "    return '{:s}\\'s score is {:d}'.format(stu['name'], stu['score'])\n",
    "# 测试\n",
    "print(print_score(stu1))\n",
    "print(print_score(stu2))"
   ]
  },
  {
   "cell_type": "markdown",
   "metadata": {},
   "source": [
    "2.面向对象编程"
   ]
  },
  {
   "cell_type": "code",
   "execution_count": 5,
   "metadata": {},
   "outputs": [
    {
     "name": "stdout",
     "output_type": "stream",
     "text": [
      "Bart's score is 59\n",
      "Lisa's score is 87\n"
     ]
    }
   ],
   "source": [
    "#定义类\n",
    "class stu(object):\n",
    "    \n",
    "    def __init__(self, name, score):\n",
    "        self.name = name\n",
    "        self.score = score\n",
    "        \n",
    "    def print_score(self):\n",
    "        print('{:s}\\'s score is {:d}'.format(self.name, self.score))\n",
    "\n",
    "\n",
    "# 创建实例\n",
    "bart = stu('Bart', 59)\n",
    "lisa = stu('Lisa', 87)\n",
    "# 调用实例的方法\n",
    "bart.print_score()\n",
    "lisa.print_score()"
   ]
  }
 ],
 "metadata": {
  "kernelspec": {
   "display_name": "Python 3",
   "language": "python",
   "name": "python3"
  },
  "language_info": {
   "codemirror_mode": {
    "name": "ipython",
    "version": 3
   },
   "file_extension": ".py",
   "mimetype": "text/x-python",
   "name": "python",
   "nbconvert_exporter": "python",
   "pygments_lexer": "ipython3",
   "version": "3.8.1"
  }
 },
 "nbformat": 4,
 "nbformat_minor": 4
}
