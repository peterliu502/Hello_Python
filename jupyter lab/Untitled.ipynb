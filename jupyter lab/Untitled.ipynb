{
 "cells": [
  {
   "cell_type": "markdown",
   "metadata": {},
   "source": [
    "# LG规则\n",
    "## Example 1.1"
   ]
  },
  {
   "cell_type": "code",
   "execution_count": 7,
   "metadata": {},
   "outputs": [
    {
     "name": "stdout",
     "output_type": "stream",
     "text": [
      "example 1.1\n",
      "global variable [ a_var inside a_func() ]\n",
      "global variable [ a_var outside a_func() ]\n"
     ]
    }
   ],
   "source": [
    "# scope(L)找不到就翻上层去scope(G)找\n",
    "print('example 1.1')\n",
    "a_var = 'global variable'\n",
    "\n",
    "\n",
    "def a_func():\n",
    "    print(a_var, '[ a_var inside a_func() ]')\n",
    "\n",
    "\n",
    "a_func()\n",
    "print(a_var, '[ a_var outside a_func() ]')\n",
    "# global value [ a_var inside a_func() ]\n",
    "# global value [ a_var outside a_func() ]"
   ]
  },
  {
   "cell_type": "markdown",
   "metadata": {},
   "source": [
    "## Example 1.2"
   ]
  },
  {
   "cell_type": "code",
   "execution_count": 6,
   "metadata": {},
   "outputs": [
    {
     "name": "stdout",
     "output_type": "stream",
     "text": [
      "\n",
      "example 1.2\n",
      "local value [ a_var inside a_func() ]\n",
      "global value [ a_var outside a_func() ]\n"
     ]
    }
   ],
   "source": [
    "print('\\nexample 1.2')\n",
    "a_var = 'global value'\n",
    "\n",
    "\n",
    "def a_func():\n",
    "    a_var = 'local value'\n",
    "    print(a_var, '[ a_var inside a_func() ]')\n",
    "\n",
    "\n",
    "a_func()\n",
    "# local value [ a_var inside a_func() ]\n",
    "print(a_var, '[ a_var outside a_func() ]')\n",
    "# global value [ a_var outside a_func() ]"
   ]
  },
  {
   "cell_type": "markdown",
   "metadata": {},
   "source": [
    "## Example 1.3"
   ]
  },
  {
   "cell_type": "code",
   "execution_count": 5,
   "metadata": {},
   "outputs": [
    {
     "name": "stdout",
     "output_type": "stream",
     "text": [
      "\n",
      "example 1.3\n",
      "global value [ a_var outside a_func() ]\n",
      "local value [ a_var inside a_func() ]\n",
      "local value [ a_var outside a_func() ]\n"
     ]
    }
   ],
   "source": [
    "print('\\nexample 1.3')\n",
    "a_var = 'global value'\n",
    "\n",
    "\n",
    "def a_func():\n",
    "    global a_var  # 通过global关键字将a_var标识为scope(G)的那个同名a_var变量\n",
    "    a_var = 'local value'\n",
    "    print(a_var, '[ a_var inside a_func() ]')\n",
    "\n",
    "\n",
    "print(a_var, '[ a_var outside a_func() ]')\n",
    "# global value [ a_var outside a_func() ]\n",
    "a_func()  # 注意a_var的值是在调用过a_func之后才改变的\n",
    "# local value [ a_var inside a_func() ]\n",
    "print(a_var, '[ a_var outside a_func() ]')\n",
    "# local value [ a_var outside a_func() ]"
   ]
  },
  {
   "cell_type": "markdown",
   "metadata": {},
   "source": [
    "# LEG规则\n",
    "## Example 2.1"
   ]
  },
  {
   "cell_type": "code",
   "execution_count": 10,
   "metadata": {},
   "outputs": [
    {
     "name": "stdout",
     "output_type": "stream",
     "text": [
      "global value scope(G)\n",
      "enclosed value scope(E)\n",
      "local value scope(L)\n"
     ]
    }
   ],
   "source": [
    "a_var = 'global value'\n",
    "\n",
    "\n",
    "def outer():\n",
    "    a_var = 'enclosed value'\n",
    "    # a_var未申明Global变量\n",
    "    # 且在outer()的scope(L)中有赋值\n",
    "    # 因此赋值为'enclosed value'\n",
    "\n",
    "    def inner():\n",
    "        a_var = 'local value'\n",
    "        # a_var未申明nonlocal变量\n",
    "        # 且在inner()的scope(L)中有赋值\n",
    "        # 因此赋值为'local value'\n",
    "        print(a_var,'scope(L)')\n",
    "        # a_var值取scope(L)中的赋值，和scope(E)或scope(G)无关\n",
    "    print(a_var, 'scope(E)')\n",
    "    inner()\n",
    "\n",
    "\n",
    "print(a_var, 'scope(G)')\n",
    "# global value scope(G)\n",
    "outer()\n",
    "# enclosed value scope(E)\n",
    "# local value scope(L)\n",
    "# scope(L)/scope(E)/scope(G)分别对同名变量赋值，三个变量独立取值"
   ]
  },
  {
   "cell_type": "markdown",
   "metadata": {},
   "source": [
    "## Example 2.2"
   ]
  },
  {
   "cell_type": "code",
   "execution_count": 13,
   "metadata": {},
   "outputs": [
    {
     "name": "stdout",
     "output_type": "stream",
     "text": [
      "outer before: local value\n",
      "in inner(): inner value\n",
      "outer after: inner value\n",
      "global: global value\n"
     ]
    }
   ],
   "source": [
    "a_var = 'global value'\n",
    "def outer(): \n",
    "    a_var = 'local value' \n",
    "    print('outer before:', a_var)\n",
    "    # outer before: local value\n",
    "    def inner(): \n",
    "        nonlocal a_var  \n",
    "        # nonlocal关键词将此变量标记为outer()中的同名变量\n",
    "        a_var = 'inner value' \n",
    "        # 因为scope(L)和scope(E)中的a_var是同一个变量\n",
    "        # 所以这里的再赋值会同时影响scope(L)和scope(E)中的a_var\n",
    "        print('in inner():', a_var)\n",
    "        # in inner(): inner value\n",
    "    inner() \n",
    "    print(\"outer after:\", a_var)\n",
    "    # outer after: inner value\n",
    "outer()\n",
    "print('global:', a_var)\n",
    "# global: global value\n",
    "# 因为outer()中的a_var没加global关键字，所以值的变化不会影响到scope(G)"
   ]
  },
  {
   "cell_type": "markdown",
   "metadata": {},
   "source": [
    "# LEGB规则\n",
    "## Example 3.1"
   ]
  },
  {
   "cell_type": "code",
   "execution_count": 16,
   "metadata": {},
   "outputs": [
    {
     "name": "stdout",
     "output_type": "stream",
     "text": [
      "called my len() function\n",
      "Input variable is of length 13\n"
     ]
    }
   ],
   "source": [
    "a_var = 'global variable'\n",
    "\n",
    "\n",
    "def len(in_var):\n",
    "    print('called my len() function') \n",
    "    l = 0 \n",
    "    for i in in_var:\n",
    "        l += 1\n",
    "    return l\n",
    "\n",
    "\n",
    "def a_func(in_var):\n",
    "    len_in_var = len(in_var) \n",
    "    print('Input variable is of length', len_in_var)\n",
    "\n",
    "    \n",
    "a_func('Hello, World!')"
   ]
  },
  {
   "cell_type": "markdown",
   "metadata": {},
   "source": [
    "流程：\n",
    "```\n",
    "call a_func \n",
    "    -> call len\n",
    "        -> print('called my len() function')\n",
    "        -> return\n",
    "    -> print('Input variable is of length', len_in_var)\n",
    "    -> return\n",
    "```"
   ]
  },
  {
   "cell_type": "code",
   "execution_count": null,
   "metadata": {},
   "outputs": [],
   "source": []
  }
 ],
 "metadata": {
  "kernelspec": {
   "display_name": "Python 3",
   "language": "python",
   "name": "python3"
  },
  "language_info": {
   "codemirror_mode": {
    "name": "ipython",
    "version": 3
   },
   "file_extension": ".py",
   "mimetype": "text/x-python",
   "name": "python",
   "nbconvert_exporter": "python",
   "pygments_lexer": "ipython3",
   "version": "3.8.1"
  }
 },
 "nbformat": 4,
 "nbformat_minor": 4
}
